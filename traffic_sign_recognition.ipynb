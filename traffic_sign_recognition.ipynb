{
 "cells": [
  {
   "cell_type": "markdown",
   "metadata": {},
   "source": [
    "# Import required libraries"
   ]
  },
  {
   "cell_type": "code",
   "execution_count": 2,
   "metadata": {},
   "outputs": [
    {
     "name": "stderr",
     "output_type": "stream",
     "text": [
      "Using TensorFlow backend.\n"
     ]
    }
   ],
   "source": [
    "# Python library used for working with arrays.\n",
    "import numpy as np\n",
    "\n",
    "# Python library used for working with data sets.\n",
    "# Is used for analyzing, cleaning, exploring, and manipulating data.\n",
    "import pandas as pd\n",
    "\n",
    "# Most of the Matplotlib utilities lies under the pyplot submodule.\n",
    "import matplotlib.pyplot as plt\n",
    "\n",
    "# Huge open-source library for computer vision.\n",
    "import cv2\n",
    "\n",
    "# Framework for implementing ML & Deep Learning models.\n",
    "import tensorflow as tf\n",
    "\n",
    "# Provides many basic operations on images like create thumnails, resize, \n",
    "# rotation, convert between different file formats etc.\n",
    "from PIL import Image\n",
    "\n",
    "# OS module provides functions for interacting with the operating system,\n",
    "# such as with the file system.\n",
    "import os\n",
    "# Change current working directory\n",
    "os.chdir('D:/TSR') \n",
    "\n",
    "# Split arrays or matrices into random train and test subsets.\n",
    "from sklearn.model_selection import train_test_split\n",
    "\n",
    "# Returns a matrix of binary values. It has #rows = length of the input vector,\n",
    "# #columns = number of classes.\n",
    "from keras.utils import to_categorical\n",
    "\n",
    "# A sequential model allows us to create models layer by layer in a step by step fashion.\n",
    "# load_model loads a model saved via model.save().\n",
    "from keras.models import Sequential, load_model\n",
    "\n",
    "# Layers to be used in the model architecture.\n",
    "from keras.layers import Conv2D, MaxPool2D, Dense, Flatten, Dropout"
   ]
  },
  {
   "cell_type": "markdown",
   "metadata": {},
   "source": [
    "# Store data & labels in lists"
   ]
  },
  {
   "cell_type": "code",
   "execution_count": 3,
   "metadata": {},
   "outputs": [],
   "source": [
    "# Initialising list for storing the data (images) and labels.\n",
    "data = []\n",
    "labels = []\n",
    "\n",
    "# In all we have 43 classes (from 0 to 42)\n",
    "classes = 43\n",
    "\n",
    "# Returns current working directory of a process.\n",
    "cur_path = os.getcwd()"
   ]
  },
  {
   "cell_type": "code",
   "execution_count": 4,
   "metadata": {},
   "outputs": [
    {
     "data": {
      "text/plain": [
       "43"
      ]
     },
     "execution_count": 4,
     "metadata": {},
     "output_type": "execute_result"
    }
   ],
   "source": [
    "classes"
   ]
  },
  {
   "cell_type": "code",
   "execution_count": 5,
   "metadata": {},
   "outputs": [
    {
     "data": {
      "text/plain": [
       "'D:\\\\TSR'"
      ]
     },
     "execution_count": 5,
     "metadata": {},
     "output_type": "execute_result"
    }
   ],
   "source": [
    "cur_path"
   ]
  },
  {
   "cell_type": "markdown",
   "metadata": {},
   "source": [
    "# Preprocess the images"
   ]
  },
  {
   "cell_type": "code",
   "execution_count": 6,
   "metadata": {},
   "outputs": [],
   "source": [
    "# Iterating over all the 43 classes (folders of these classes)\n",
    "for i in range(classes):\n",
    "    # Storing the path of the current folder of \"Train\"\n",
    "    path = os.path.join(cur_path, 'train', str(i))\n",
    "    \n",
    "    # Returns the list of all files and directories in the specified path.\n",
    "    images = os.listdir(path)\n",
    "    \n",
    "    # iterating over all the images of the current class 'i'\n",
    "    for a in images:\n",
    "        try:\n",
    "            image = Image.open(path + '\\\\' + a)\n",
    "            image = image.resize((30, 30))\n",
    "            image = np.array(image)\n",
    "            data.append(image)\n",
    "            labels.append(i)\n",
    "        except Exception as e:\n",
    "            print(e)"
   ]
  },
  {
   "cell_type": "markdown",
   "metadata": {},
   "source": [
    "# Convert data & labels lists to numpy arrays"
   ]
  },
  {
   "cell_type": "code",
   "execution_count": 7,
   "metadata": {},
   "outputs": [],
   "source": [
    "data = np.array(data)\n",
    "labels = np.array(labels)"
   ]
  },
  {
   "cell_type": "markdown",
   "metadata": {},
   "source": [
    "# Save data & labels for future use"
   ]
  },
  {
   "cell_type": "code",
   "execution_count": 11,
   "metadata": {},
   "outputs": [],
   "source": [
    "# Function used to store the input array in a disk file with npy extension(.npy)\n",
    "np.save('./training/data', data)\n",
    "np.save('./training/target', labels)"
   ]
  },
  {
   "cell_type": "markdown",
   "metadata": {},
   "source": [
    "# Load data & labels"
   ]
  },
  {
   "cell_type": "code",
   "execution_count": 12,
   "metadata": {},
   "outputs": [],
   "source": [
    "# Function used to return the input array from a disk file with npy extension(.npy).\n",
    "data = np.load('./training/data.npy')\n",
    "labels = np.load('./training/target.npy')"
   ]
  },
  {
   "cell_type": "code",
   "execution_count": 13,
   "metadata": {},
   "outputs": [
    {
     "name": "stdout",
     "output_type": "stream",
     "text": [
      "(39209, 30, 30, 3) (39209,)\n"
     ]
    }
   ],
   "source": [
    "# \"shape\" returns a tuple with each index having the number of elements in each dimension.\n",
    "print(data.shape, labels.shape)"
   ]
  },
  {
   "cell_type": "markdown",
   "metadata": {},
   "source": [
    "# Splitting the training data in train & test data"
   ]
  },
  {
   "cell_type": "code",
   "execution_count": 14,
   "metadata": {},
   "outputs": [],
   "source": [
    "# The training set is used to train the model, while the validation set is only used to evaluate the model's performance.\n",
    "X_train, X_test, y_train, y_test = train_test_split(data, labels, test_size = 0.2, random_state = 0)"
   ]
  },
  {
   "cell_type": "code",
   "execution_count": 15,
   "metadata": {},
   "outputs": [
    {
     "name": "stdout",
     "output_type": "stream",
     "text": [
      "(31367, 30, 30, 3) (7842, 30, 30, 3) (31367,) (7842,)\n"
     ]
    }
   ],
   "source": [
    "print(X_train.shape, X_test.shape, y_train.shape, y_test.shape)"
   ]
  },
  {
   "cell_type": "markdown",
   "metadata": {},
   "source": [
    "# Converting labels to onehot encoding"
   ]
  },
  {
   "cell_type": "code",
   "execution_count": 16,
   "metadata": {},
   "outputs": [],
   "source": [
    "# One-hot encoding is used to quantify categorical data. In short, this method produces a vector with \n",
    "# length equal to the number of categories in the data set.\n",
    "y_train = to_categorical(y_train, 43)\n",
    "y_test = to_categorical(y_test, 43)"
   ]
  },
  {
   "cell_type": "markdown",
   "metadata": {},
   "source": [
    "# Building the model based on LeNet-5 CNN architecture"
   ]
  },
  {
   "cell_type": "code",
   "execution_count": 18,
   "metadata": {},
   "outputs": [],
   "source": [
    "# Defining and fitting the final model.\n",
    "model = Sequential()\n",
    "\n",
    "model.add(Conv2D(filters = 32, kernel_size = (5, 5), activation = 'relu', input_shape = X_train.shape[1:]))\n",
    "model.add(MaxPool2D(pool_size = (2, 2)))\n",
    "\n",
    "model.add(Conv2D(filters = 64, kernel_size = (3, 3), activation = 'relu'))\n",
    "model.add(MaxPool2D(pool_size = (2, 2)))\n",
    "\n",
    "model.add(Flatten())\n",
    "\n",
    "model.add(Dense(units = 256, activation = 'relu'))\n",
    "\n",
    "model.add(Dense(units = 128, activation = 'relu'))\n",
    "\n",
    "# As we have 43 classes in total as our result\n",
    "model.add(Dense(units = 43, activation = 'softmax'))"
   ]
  },
  {
   "cell_type": "markdown",
   "metadata": {},
   "source": [
    "# Compiling the model"
   ]
  },
  {
   "cell_type": "code",
   "execution_count": 20,
   "metadata": {},
   "outputs": [],
   "source": [
    "# Compile defines the loss function, the optimizer and the metrics of the loaded model.\n",
    "#  Config the model with losses and metrics.\n",
    "model.compile(loss = 'categorical_crossentropy', optimizer = 'adam', metrics = ['accuracy'])"
   ]
  },
  {
   "cell_type": "code",
   "execution_count": 21,
   "metadata": {},
   "outputs": [
    {
     "name": "stdout",
     "output_type": "stream",
     "text": [
      "WARNING:tensorflow:From C:\\Users\\suru0\\Anaconda3\\lib\\site-packages\\keras\\backend\\tensorflow_backend.py:422: The name tf.global_variables is deprecated. Please use tf.compat.v1.global_variables instead.\n",
      "\n",
      "Train on 31367 samples, validate on 7842 samples\n",
      "Epoch 1/20\n",
      "31367/31367 [==============================] - 108s 3ms/step - loss: 1.0535 - accuracy: 0.7864 - val_loss: 0.3489 - val_accuracy: 0.9125\n",
      "Epoch 2/20\n",
      "31367/31367 [==============================] - 107s 3ms/step - loss: 0.2222 - accuracy: 0.9417 - val_loss: 0.3647 - val_accuracy: 0.9129\n",
      "Epoch 3/20\n",
      "31367/31367 [==============================] - 111s 4ms/step - loss: 0.1837 - accuracy: 0.9523 - val_loss: 0.2096 - val_accuracy: 0.9505\n",
      "Epoch 4/20\n",
      "31367/31367 [==============================] - 111s 4ms/step - loss: 0.1293 - accuracy: 0.9668 - val_loss: 0.3051 - val_accuracy: 0.9271\n",
      "Epoch 5/20\n",
      "31367/31367 [==============================] - 111s 4ms/step - loss: 0.1619 - accuracy: 0.9615 - val_loss: 0.1833 - val_accuracy: 0.9603\n",
      "Epoch 6/20\n",
      "31367/31367 [==============================] - 112s 4ms/step - loss: 0.1260 - accuracy: 0.9701 - val_loss: 0.1590 - val_accuracy: 0.9680\n",
      "Epoch 7/20\n",
      "31367/31367 [==============================] - 112s 4ms/step - loss: 0.1014 - accuracy: 0.9777 - val_loss: 0.1607 - val_accuracy: 0.9671\n",
      "Epoch 8/20\n",
      "31367/31367 [==============================] - 111s 4ms/step - loss: 0.1359 - accuracy: 0.9706 - val_loss: 0.2054 - val_accuracy: 0.9616\n",
      "Epoch 9/20\n",
      "31367/31367 [==============================] - 112s 4ms/step - loss: 0.0993 - accuracy: 0.9770 - val_loss: 0.2284 - val_accuracy: 0.9620\n",
      "Epoch 10/20\n",
      "31367/31367 [==============================] - 112s 4ms/step - loss: 0.1097 - accuracy: 0.9762 - val_loss: 0.1996 - val_accuracy: 0.9679\n",
      "Epoch 11/20\n",
      "31367/31367 [==============================] - 112s 4ms/step - loss: 0.1065 - accuracy: 0.9784 - val_loss: 0.2706 - val_accuracy: 0.9582\n",
      "Epoch 12/20\n",
      "31367/31367 [==============================] - 113s 4ms/step - loss: 0.0861 - accuracy: 0.9815 - val_loss: 0.1957 - val_accuracy: 0.9736\n",
      "Epoch 13/20\n",
      "31367/31367 [==============================] - 113s 4ms/step - loss: 0.0895 - accuracy: 0.9829 - val_loss: 0.1727 - val_accuracy: 0.9783\n",
      "Epoch 14/20\n",
      "31367/31367 [==============================] - 113s 4ms/step - loss: 0.0862 - accuracy: 0.9839 - val_loss: 0.3679 - val_accuracy: 0.9471\n",
      "Epoch 15/20\n",
      "31367/31367 [==============================] - 115s 4ms/step - loss: 0.1066 - accuracy: 0.9816 - val_loss: 0.2061 - val_accuracy: 0.9699\n",
      "Epoch 16/20\n",
      "31367/31367 [==============================] - 114s 4ms/step - loss: 0.0673 - accuracy: 0.9870 - val_loss: 0.4006 - val_accuracy: 0.9449\n",
      "Epoch 17/20\n",
      "31367/31367 [==============================] - 114s 4ms/step - loss: 0.0714 - accuracy: 0.9854 - val_loss: 0.2471 - val_accuracy: 0.9711\n",
      "Epoch 18/20\n",
      "31367/31367 [==============================] - 114s 4ms/step - loss: 0.0828 - accuracy: 0.9866 - val_loss: 0.3126 - val_accuracy: 0.9625\n",
      "Epoch 19/20\n",
      "31367/31367 [==============================] - 115s 4ms/step - loss: 0.1193 - accuracy: 0.9810 - val_loss: 0.2291 - val_accuracy: 0.9717\n",
      "Epoch 20/20\n",
      "31367/31367 [==============================] - 114s 4ms/step - loss: 0.0925 - accuracy: 0.9857 - val_loss: 0.2980 - val_accuracy: 0.9699\n"
     ]
    }
   ],
   "source": [
    "# An epoch is a term that indicates the number of passes of the entire training dataset through \n",
    "# the model. If dataset size is d, #epochs is e, #iterations is i, and batch size is b, then relation\n",
    "# between them would be d*e = i*b. \n",
    "epochs = 20\n",
    "\n",
    "# Training the model with model.fit()\n",
    "history = model.fit(X_train, y_train, batch_size = 32, epochs = epochs, validation_data = (X_test, y_test))"
   ]
  },
  {
   "cell_type": "markdown",
   "metadata": {},
   "source": [
    "# Accuracy v/s Epochs graph"
   ]
  },
  {
   "cell_type": "code",
   "execution_count": 22,
   "metadata": {},
   "outputs": [
    {
     "data": {
      "image/png": "[encoded data removed]",
      "text/plain": [
       "<Figure size 432x288 with 1 Axes>"
      ]
     },
     "metadata": {
      "needs_background": "light"
     },
     "output_type": "display_data"
    }
   ],
   "source": [
    "plt.figure(0)\n",
    "plt.plot(history.history['accuracy'], label = 'training accuracy')\n",
    "plt.plot(history.history['val_accuracy'], label = 'validation accuracy')\n",
    "plt.title('Accuracy v/s Epochs')\n",
    "plt.xlabel('epochs')\n",
    "plt.ylabel('accuracy')\n",
    "plt.legend()\n",
    "plt.show()"
   ]
  },
  {
   "cell_type": "markdown",
   "metadata": {},
   "source": [
    "# Loss v/s Epochs graph"
   ]
  },
  {
   "cell_type": "code",
   "execution_count": 23,
   "metadata": {},
   "outputs": [
    {
     "data": {
      "image/png": "[encoded data removed]",
      "text/plain": [
       "<Figure size 432x288 with 1 Axes>"
      ]
     },
     "metadata": {
      "needs_background": "light"
     },
     "output_type": "display_data"
    }
   ],
   "source": [
    "plt.plot(history.history['loss'], label = 'training loss')\n",
    "plt.plot(history.history['val_loss'], label = 'validation loss')\n",
    "plt.title('Loss v/s Epochs')\n",
    "plt.xlabel('loss')\n",
    "plt.ylabel('epochs')\n",
    "plt.legend()\n",
    "plt.show()"
   ]
  },
  {
   "cell_type": "markdown",
   "metadata": {},
   "source": [
    "# Testing the model on Test data"
   ]
  },
  {
   "cell_type": "code",
   "execution_count": 24,
   "metadata": {},
   "outputs": [],
   "source": [
    "# Function used in testing the model\n",
    "def testing(testcsv):\n",
    "    test_file = pd.read_csv(testcsv)\n",
    "    y_test = test_file[\"ClassId\"].values\n",
    "    imgs = test_file[\"Path\"].values\n",
    "    data = []\n",
    "    \n",
    "    # Iterating over all the images in the test set\n",
    "    for img in imgs:\n",
    "        image = Image.open(img)\n",
    "        image = image.resize((30, 30))\n",
    "        data.append(np.array(image))\n",
    "        \n",
    "    X_test = np.array(data)\n",
    "    \n",
    "    # Return X_test (all the images) and y_test (all the labels of the images)\n",
    "    return X_test, y_test"
   ]
  },
  {
   "cell_type": "code",
   "execution_count": 25,
   "metadata": {},
   "outputs": [],
   "source": [
    "# X_test = all the new instances where the model already do not know the answer.\n",
    "# y_test = he correct answers by which cross checking will be done.\n",
    "X_test, y_test = testing('Test.csv')"
   ]
  },
  {
   "cell_type": "code",
   "execution_count": 26,
   "metadata": {},
   "outputs": [],
   "source": [
    "# Make predictions\n",
    "Y_pred = model.predict_classes(X_test)"
   ]
  },
  {
   "cell_type": "code",
   "execution_count": 28,
   "metadata": {},
   "outputs": [
    {
     "data": {
      "text/plain": [
       "array([16,  1, 38, ..., 42,  7, 10], dtype=int64)"
      ]
     },
     "execution_count": 28,
     "metadata": {},
     "output_type": "execute_result"
    }
   ],
   "source": [
    "Y_pred"
   ]
  },
  {
   "cell_type": "markdown",
   "metadata": {},
   "source": [
    "# Accuracy obtained with Test data"
   ]
  },
  {
   "cell_type": "code",
   "execution_count": 30,
   "metadata": {},
   "outputs": [
    {
     "name": "stdout",
     "output_type": "stream",
     "text": [
      "0.9197149643705463\n"
     ]
    }
   ],
   "source": [
    "from sklearn.metrics import accuracy_score\n",
    "print(accuracy_score(y_test, Y_pred))"
   ]
  },
  {
   "cell_type": "markdown",
   "metadata": {},
   "source": [
    "# Save the model"
   ]
  },
  {
   "cell_type": "code",
   "execution_count": 31,
   "metadata": {},
   "outputs": [],
   "source": [
    "model.save(\"./training/TSR.h5\")"
   ]
  },
  {
   "cell_type": "markdown",
   "metadata": {},
   "source": [
    "# Load the model"
   ]
  },
  {
   "cell_type": "code",
   "execution_count": 32,
   "metadata": {},
   "outputs": [],
   "source": [
    "import os\n",
    "os.chdir('D:\\TSR')\n",
    "from keras.models import load_model\n",
    "model = load_model('./training/TSR.h5')"
   ]
  },
  {
   "cell_type": "markdown",
   "metadata": {},
   "source": [
    "# Testing on some random traffic signs"
   ]
  },
  {
   "cell_type": "code",
   "execution_count": 33,
   "metadata": {},
   "outputs": [],
   "source": [
    "# Dictionary to store the actual name of the traffic sign correspondingto it's label\n",
    "classes = { 0:'Speed limit (20km/h)',\n",
    "            1:'Speed limit (30km/h)', \n",
    "            2:'Speed limit (50km/h)', \n",
    "            3:'Speed limit (60km/h)', \n",
    "            4:'Speed limit (70km/h)', \n",
    "            5:'Speed limit (80km/h)', \n",
    "            6:'End of speed limit (80km/h)', \n",
    "            7:'Speed limit (100km/h)', \n",
    "            8:'Speed limit (120km/h)', \n",
    "            9:'No passing', \n",
    "            10:'No passing veh over 3.5 tons', \n",
    "            11:'Right-of-way at intersection', \n",
    "            12:'Priority road', \n",
    "            13:'Yield', \n",
    "            14:'Stop', \n",
    "            15:'No vehicles', \n",
    "            16:'Veh > 3.5 tons prohibited', \n",
    "            17:'No entry', \n",
    "            18:'General caution', \n",
    "            19:'Dangerous curve left', \n",
    "            20:'Dangerous curve right', \n",
    "            21:'Double curve', \n",
    "            22:'Bumpy road', \n",
    "            23:'Slippery road', \n",
    "            24:'Road narrows on the right', \n",
    "            25:'Road work', \n",
    "            26:'Traffic signals', \n",
    "            27:'Pedestrians', \n",
    "            28:'Children crossing', \n",
    "            29:'Bicycles crossing', \n",
    "            30:'Beware of ice/snow',\n",
    "            31:'Wild animals crossing', \n",
    "            32:'End speed + passing limits', \n",
    "            33:'Turn right ahead', \n",
    "            34:'Turn left ahead', \n",
    "            35:'Ahead only', \n",
    "            36:'Go straight or right', \n",
    "            37:'Go straight or left', \n",
    "            38:'Keep right', \n",
    "            39:'Keep left', \n",
    "            40:'Roundabout mandatory', \n",
    "            41:'End of no passing', \n",
    "            42:'End no passing veh > 3.5 tons' }"
   ]
  },
  {
   "cell_type": "code",
   "execution_count": 34,
   "metadata": {},
   "outputs": [],
   "source": [
    "from PIL import Image\n",
    "import matplotlib.pyplot as plt\n",
    "import numpy as np\n",
    "\n",
    "def test_on_img(img):\n",
    "    data = []\n",
    "    image = Image.open(img)\n",
    "    image = image.resize((30, 30))\n",
    "    data.append(np.array(image))\n",
    "    X_test = np.array(data)\n",
    "    Y_pred = model.predict_classes(X_test)\n",
    "    return image, Y_pred"
   ]
  },
  {
   "cell_type": "code",
   "execution_count": 46,
   "metadata": {
    "scrolled": true
   },
   "outputs": [
    {
     "name": "stdout",
     "output_type": "stream",
     "text": [
      "Predicted traffic sign is:  Ahead only\n"
     ]
    },
    {
     "data": {
      "image/png": "[encoded data removed]",
      "text/plain": [
       "<Figure size 432x288 with 1 Axes>"
      ]
     },
     "metadata": {
      "needs_background": "light"
     },
     "output_type": "display_data"
    }
   ],
   "source": [
    "plot, prediction = test_on_img(r'D:\\TSR\\Test\\12623.png')\n",
    "s = [str(i) for i in prediction]\n",
    "a = int(\"\".join(s))\n",
    "\n",
    "print(\"Predicted traffic sign is: \", classes[a])\n",
    "\n",
    "# imshow() is pyplot module of matplotlib library used to display data as an image; i.e. on a 2D regular raster.\n",
    "plt.imshow(plot)\n",
    "plt.show()"
   ]
  },
  {
   "cell_type": "code",
   "execution_count": null,
   "metadata": {},
   "outputs": [],
   "source": []
  }
 ],
 "metadata": {
  "kernelspec": {
   "display_name": "Python 3",
   "language": "python",
   "name": "python3"
  },
  "language_info": {
   "codemirror_mode": {
    "name": "ipython",
    "version": 3
   },
   "file_extension": ".py",
   "mimetype": "text/x-python",
   "name": "python",
   "nbconvert_exporter": "python",
   "pygments_lexer": "ipython3",
   "version": "3.7.3"
  }
 },
 "nbformat": 4,
 "nbformat_minor": 4
}
