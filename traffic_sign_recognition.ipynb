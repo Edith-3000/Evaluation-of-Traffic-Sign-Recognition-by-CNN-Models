{
 "cells": [
  {
   "cell_type": "markdown",
   "metadata": {},
   "source": [
    "# Import required libraries"
   ]
  },
  {
   "cell_type": "code",
   "execution_count": 11,
   "metadata": {},
   "outputs": [],
   "source": [
    "# Python library used for working with arrays.\n",
    "import numpy as np\n",
    "\n",
    "# Python library used for working with data sets.\n",
    "# Is used for analyzing, cleaning, exploring, and manipulating data.\n",
    "import pandas as pd\n",
    "\n",
    "# Most of the Matplotlib utilities lies under the pyplot submodule.\n",
    "import matplotlib.pyplot as plt\n",
    "\n",
    "# Huge open-source library for computer vision.\n",
    "import cv2\n",
    "\n",
    "# Framework for implementing ML & Deep Learning models.\n",
    "import tensorflow as tf\n",
    "\n",
    "# Provides many basic operations on images like create thumnails, resize, \n",
    "# rotation, convert between different file formats etc.\n",
    "from PIL import Image\n",
    "\n",
    "# OS module provides functions for interacting with the operating system,\n",
    "# such as with the file system.\n",
    "import os\n",
    "# Change current working directory\n",
    "os.chdir('D:/TSR') \n",
    "\n",
    "# Split arrays or matrices into random train and test subsets.\n",
    "from sklearn.model_selection import train_test_split\n",
    "\n",
    "# Returns a matrix of binary values. It has #rows = length of the input vector,\n",
    "# #columns = number of classes.\n",
    "from keras.utils import to_categorical\n",
    "\n",
    "# A sequential model allows us to create models layer by layer in a step by step fashion.\n",
    "# load_model loads a model saved via model.save().\n",
    "from keras.models import Sequential, load_model\n",
    "\n",
    "# Layers to be used in the model architecture.\n",
    "from keras.layers import Conv2D, MaxPool2D, Dense, Flatten, Dropout"
   ]
  },
  {
   "cell_type": "markdown",
   "metadata": {},
   "source": [
    "# Store data & labels in lists"
   ]
  },
  {
   "cell_type": "code",
   "execution_count": 12,
   "metadata": {},
   "outputs": [],
   "source": [
    "# Initialising list for storing the data (images) and labels.\n",
    "data = []\n",
    "labels = []\n",
    "\n",
    "# In all we have 43 classes (from 0 to 42)\n",
    "classes = 43\n",
    "\n",
    "# Returns current working directory of a process.\n",
    "cur_path = os.getcwd()"
   ]
  },
  {
   "cell_type": "code",
   "execution_count": 13,
   "metadata": {},
   "outputs": [
    {
     "data": {
      "text/plain": [
       "43"
      ]
     },
     "execution_count": 13,
     "metadata": {},
     "output_type": "execute_result"
    }
   ],
   "source": [
    "classes"
   ]
  },
  {
   "cell_type": "code",
   "execution_count": 14,
   "metadata": {},
   "outputs": [
    {
     "data": {
      "text/plain": [
       "'D:\\\\TSR'"
      ]
     },
     "execution_count": 14,
     "metadata": {},
     "output_type": "execute_result"
    }
   ],
   "source": [
    "cur_path"
   ]
  },
  {
   "cell_type": "markdown",
   "metadata": {},
   "source": [
    "# Preprocess the images"
   ]
  },
  {
   "cell_type": "code",
   "execution_count": 16,
   "metadata": {},
   "outputs": [],
   "source": [
    "# Iterating over all the 43 classes (folders of these classes)\n",
    "for i in range(classes):\n",
    "    # Storing the path of the current folder of \"Train\"\n",
    "    path = os.path.join(cur_path, 'train', str(i))\n",
    "    \n",
    "    # Returns the list of all files and directories in the specified path.\n",
    "    images = os.listdir(path)\n",
    "    \n",
    "    # iterating over all the images of the current class 'i'\n",
    "    for a in images:\n",
    "        try:\n",
    "            image = Image.open(path + '\\\\' + a)\n",
    "            image = image.resize((30, 30))\n",
    "            image = np.array(image)\n",
    "            data.append(image)\n",
    "            labels.append(i)\n",
    "        except Exception as e:\n",
    "            print(e)"
   ]
  },
  {
   "cell_type": "markdown",
   "metadata": {},
   "source": [
    "# Convert data & labels lists to numpy arrays"
   ]
  },
  {
   "cell_type": "code",
   "execution_count": 17,
   "metadata": {},
   "outputs": [],
   "source": [
    "data = np.array(data)\n",
    "labels = np.array(labels)"
   ]
  },
  {
   "cell_type": "code",
   "execution_count": null,
   "metadata": {},
   "outputs": [],
   "source": []
  }
 ],
 "metadata": {
  "kernelspec": {
   "display_name": "Python 3",
   "language": "python",
   "name": "python3"
  },
  "language_info": {
   "codemirror_mode": {
    "name": "ipython",
    "version": 3
   },
   "file_extension": ".py",
   "mimetype": "text/x-python",
   "name": "python",
   "nbconvert_exporter": "python",
   "pygments_lexer": "ipython3",
   "version": "3.7.3"
  }
 },
 "nbformat": 4,
 "nbformat_minor": 4
}
